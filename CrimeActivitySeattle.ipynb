{
 "cells": [
  {
   "cell_type": "markdown",
   "metadata": {},
   "source": [
    "# What Happened to Crime Activity in Seattle?"
   ]
  },
  {
   "cell_type": "markdown",
   "metadata": {},
   "source": [
    "This is part 2 of a project I initially started as a means of finding a place to live. I ended up moving before finishing the project, but the data was interesting enough to motivate me to finish it. While the primary overall goal of this project is to determine the quality of life throughout Seattle, I have a few secondary goals for this part of the project:\n",
    "<ol>\n",
    "    <li>Find out how criminal activity has changed with time in Seattle\n",
    "    <li>Find out how much each Seattle neighborhood has experienced criminal activity\n",
    "    <li>Consolidate this new information with past information on code violations to figure out the best neighborhoods\n",
    "</ol>\n",
    "\n",
    "In this part, I will use data from my previous look at code violations in Seattle (in the time domain) as well as criminal activity data provided by [data.seattle.gov](data.seattle.gov). I will also use time series analysis methods I first encountered in [JTEST](TEst), and chloropleth creation code I encountered in [TEST](www.TEST.com)"
   ]
  },
  {
   "cell_type": "markdown",
   "metadata": {},
   "source": [
    "## The Data"
   ]
  },
  {
   "cell_type": "markdown",
   "metadata": {},
   "source": [
    "I use two data sets in part 2. The first contains 626557 logged [criminal cases](https://data.seattle.gov/Public-Safety/Seattle-Police-Department-Police-Report-Incident/7ais-f98f) around Seattle going back to 2007. The cases range from petty theft to homicide, and, if a case has more than one crime, it is logged multiple times. These are crimes that were called in by someone, responded to, and officially entered into the police records. Among other information, this set lists offense type, date, and location.\n",
    "I use the output data from part I of this project"
   ]
  },
  {
   "cell_type": "markdown",
   "metadata": {},
   "source": [
    "##The Analysis"
   ]
  },
  {
   "cell_type": "markdown",
   "metadata": {},
   "source": [
    "Using the same methods as in the previous part, I will use Pandas, Matplotlib, and Numpy for most all of the analysis. Using timestamps from the crime data, I can make timeseries' that make certain types of analysis easier."
   ]
  },
  {
   "cell_type": "code",
   "execution_count": 1,
   "metadata": {
    "collapsed": false
   },
   "outputs": [],
   "source": [
    "%matplotlib inline\n",
    "\n",
    "import matplotlib.pyplot as plt\n",
    "import numpy as np\n",
    "import pandas as pd\n",
    "plt.style.use('ggplot')\n",
    "\n",
    "crimes = pd.read_csv('../crimes2.csv', index_col='Date Reported', parse_dates=True)\n",
    "violations = pd.read_csv('finalviolations.csv', sep=',', index_col=0, parse_dates=True)"
   ]
  },
  {
   "cell_type": "markdown",
   "metadata": {},
   "source": [
    "Here are the headers for the crime data"
   ]
  },
  {
   "cell_type": "code",
   "execution_count": 2,
   "metadata": {
    "collapsed": false
   },
   "outputs": [
    {
     "data": {
      "text/plain": [
       "['RMS CDW ID',\n",
       " 'General Offense Number',\n",
       " 'Offense Code',\n",
       " 'Offense Code Extension',\n",
       " 'Offense Type',\n",
       " 'Summary Offense Code',\n",
       " 'Summarized Offense Description',\n",
       " 'Occurred Date or Date Range Start',\n",
       " 'Occurred Date Range End',\n",
       " 'Hundred Block Location',\n",
       " 'District/Sector',\n",
       " 'Zone/Beat',\n",
       " 'Census Tract 2000',\n",
       " 'Longitude',\n",
       " 'Latitude',\n",
       " 'Location',\n",
       " 'Month',\n",
       " 'Year']"
      ]
     },
     "execution_count": 2,
     "metadata": {},
     "output_type": "execute_result"
    }
   ],
   "source": [
    "list(crimes.columns)"
   ]
  },
  {
   "cell_type": "markdown",
   "metadata": {},
   "source": [
    "and here are the newest/oldest entries in the database."
   ]
  },
  {
   "cell_type": "code",
   "execution_count": 3,
   "metadata": {
    "collapsed": false
   },
   "outputs": [
    {
     "data": {
      "text/plain": [
       "([Timestamp('2015-08-26 12:37:00'),\n",
       "  Timestamp('2015-08-26 10:27:00'),\n",
       "  Timestamp('2015-08-26 10:15:00'),\n",
       "  Timestamp('2015-08-26 08:48:00'),\n",
       "  Timestamp('2015-08-26 08:29:00'),\n",
       "  Timestamp('2015-08-26 08:25:00'),\n",
       "  Timestamp('2015-08-26 07:56:00'),\n",
       "  Timestamp('2015-08-26 06:49:00'),\n",
       "  Timestamp('2015-08-26 05:01:00'),\n",
       "  Timestamp('2015-08-26 03:40:00')],\n",
       " [Timestamp('2015-08-25 16:51:00'),\n",
       "  Timestamp('2015-08-25 16:45:00'),\n",
       "  Timestamp('2015-08-25 16:40:00'),\n",
       "  Timestamp('2015-08-25 16:17:00'),\n",
       "  Timestamp('2015-08-25 16:10:00'),\n",
       "  Timestamp('2015-08-25 15:54:00'),\n",
       "  Timestamp('2015-08-25 15:42:00'),\n",
       "  Timestamp('2015-08-25 15:30:00'),\n",
       "  Timestamp('2015-08-25 15:24:00'),\n",
       "  Timestamp('2015-08-25 15:14:00')])"
      ]
     },
     "execution_count": 3,
     "metadata": {},
     "output_type": "execute_result"
    }
   ],
   "source": [
    "list(crimes.index)[0:10], list(crimes.index)[-11:-1]"
   ]
  },
  {
   "cell_type": "markdown",
   "metadata": {},
   "source": [
    "Now for some cleaning up. Turns out that there are a lot of entries that have only part of the information filled in, having either missing entries or have filler entries such as lat/longitude being set to zero. There is an outlier point from 1989 that is missing a significant chunk of information.\n",
    "\n",
    "I'll strip away headers that I don't think are useful, e.g. we don't need 'location' if we have 'latitude' and 'longitude' (which end up being easier to work with anyway because 'location' is an array of tuples). Really, the things I care about are the types of offenses and where they happened."
   ]
  },
  {
   "cell_type": "code",
   "execution_count": 4,
   "metadata": {
    "collapsed": false
   },
   "outputs": [],
   "source": [
    "crimes = crimes[['Summarized Offense Description','District/Sector', 'Zone/Beat', 'Latitude', 'Longitude']].dropna()\n",
    "crimes = crimes[(crimes['Latitude'] != 0.0) & (crimes['Longitude'] != 0.0)]\n",
    "crimes = crimes[crimes.index >= '2008-01-01']\n",
    "crimes5yr = crimes[crimes.index >= '2011-01-01']"
   ]
  },
  {
   "cell_type": "markdown",
   "metadata": {},
   "source": [
    "Here is a look at the different types of offenses listed in this dataset. The offense descriptions are sometimes in all caps or with the beginning letters capitalized, so I combine these with Pandas to avoid having separate listings."
   ]
  },
  {
   "cell_type": "code",
   "execution_count": 5,
   "metadata": {
    "collapsed": false
   },
   "outputs": [
    {
     "data": {
      "text/plain": [
       "Assault            7\n",
       "Vehicle theft      7\n",
       "Other property     4\n",
       "Threats            4\n",
       "Warrant arrest     4\n",
       "Trespass           3\n",
       "Dispute            3\n",
       "Car prowl          3\n",
       "Fraud              3\n",
       "Narcotics          2\n",
       "Property damage    2\n",
       "Bike theft         2\n",
       "Disturbance        1\n",
       "Dui                1\n",
       "Burglary           1\n",
       "Robbery            1\n",
       "Shoplifting        1\n",
       "Name: Summarized Offense Description, dtype: int64"
      ]
     },
     "execution_count": 5,
     "metadata": {},
     "output_type": "execute_result"
    }
   ],
   "source": [
    "crimes['Summarized Offense Description'].str.capitalize().value_counts()"
   ]
  },
  {
   "cell_type": "markdown",
   "metadata": {
    "collapsed": true
   },
   "source": [
    "Now, the two main things I want to do with this data are: 1) Figure out how crimes are distributed throughout the city and 2) Figure out how crime has changed with time."
   ]
  },
  {
   "cell_type": "code",
   "execution_count": 6,
   "metadata": {
    "collapsed": false
   },
   "outputs": [
    {
     "name": "stderr",
     "output_type": "stream",
     "text": [
      "/home/ray/anaconda3/lib/python3.5/site-packages/matplotlib/axes/_base.py:2787: UserWarning: Attempting to set identical left==right results\n",
      "in singular transformations; automatically expanding.\n",
      "left=547.0, right=547.0\n",
      "  'left=%s, right=%s') % (left, right))\n"
     ]
    },
    {
     "data": {
      "text/plain": [
       "count     1\n",
       "mean     49\n",
       "std     NaN\n",
       "min      49\n",
       "25%      49\n",
       "50%      49\n",
       "75%      49\n",
       "max      49\n",
       "Name: Date Reported, dtype: float64"
      ]
     },
     "execution_count": 6,
     "metadata": {},
     "output_type": "execute_result"
    },
    {
     "data": {
      "image/png": "[encoded data removed]",
      "text/plain": [
       "<matplotlib.figure.Figure at 0x7f48bf1567b8>"
      ]
     },
     "metadata": {},
     "output_type": "display_data"
    }
   ],
   "source": [
    "crime_counts = crimes.index.value_counts().resample('M', how='sum')\n",
    "crime_counts['2008-01-01':].plot()\n",
    "plt.xlabel('Date')\n",
    "plt.ylabel('Monthly Crime Counts')\n",
    "\n",
    "crime_counts.describe()"
   ]
  },
  {
   "cell_type": "code",
   "execution_count": 7,
   "metadata": {
    "collapsed": true
   },
   "outputs": [],
   "source": [
    "def hours_of_daylight(date, axis=23.44, latitude=47.61):\n",
    "    \"\"\"Compute the hours of daylight for the given date\"\"\"\n",
    "    diff = date - pd.datetime(2000, 12, 21)\n",
    "    day = diff.total_seconds() / 24. / 3600\n",
    "    day %= 365.25\n",
    "    m = 1. - np.tan(np.radians(latitude)) * np.tan(np.radians(axis) * np.cos(day * np.pi / 182.625))\n",
    "    m = max(0, min(m, 2))\n",
    "    return 24. * np.degrees(np.arccos(1 - m)) / 180."
   ]
  },
  {
   "cell_type": "code",
   "execution_count": 8,
   "metadata": {
    "collapsed": false
   },
   "outputs": [],
   "source": [
    "cases = pd.DataFrame({'Crime Counts': pd.Series(crime_counts, index=crime_counts.index),\n",
    "                     'Daylight Hours': pd.Series(crime_counts.index.map(hours_of_daylight), index=crime_counts.index),\n",
    "                     'Weekday': pd.Series(crime_counts.index.dayofweek, index=crime_counts.index)})\n",
    "cases = cases.fillna(0)\n",
    "cases = cases['2008-01-01':]"
   ]
  },
  {
   "cell_type": "code",
   "execution_count": 9,
   "metadata": {
    "collapsed": false
   },
   "outputs": [],
   "source": [
    "from sklearn.linear_model import LinearRegression\n",
    "\n",
    "x = cases[['Daylight Hours','Weekday']]\n",
    "y = cases['Crime Counts']\n",
    "fit = LinearRegression().fit(x,y)\n",
    "\n",
    "cases['Trend1'] = fit.predict(x)\n",
    "cases['Detrended1'] = cases['Crime Counts'] - cases['Trend1'] + cases['Trend1'].mean()"
   ]
  },
  {
   "cell_type": "code",
   "execution_count": 10,
   "metadata": {
    "collapsed": false
   },
   "outputs": [
    {
     "name": "stderr",
     "output_type": "stream",
     "text": [
      "/home/ray/anaconda3/lib/python3.5/site-packages/matplotlib/axes/_base.py:2787: UserWarning: Attempting to set identical left==right results\n",
      "in singular transformations; automatically expanding.\n",
      "left=547.0, right=547.0\n",
      "  'left=%s, right=%s') % (left, right))\n"
     ]
    },
    {
     "data": {
      "text/plain": [
       "Detrended1     NaN\n",
       "Crime Counts   NaN\n",
       "dtype: float64"
      ]
     },
     "execution_count": 10,
     "metadata": {},
     "output_type": "execute_result"
    },
    {
     "data": {
      "image/png": "[encoded data removed]",
      "text/plain": [
       "<matplotlib.figure.Figure at 0x7f48bc94be48>"
      ]
     },
     "metadata": {},
     "output_type": "display_data"
    }
   ],
   "source": [
    "cases[['Detrended1','Crime Counts']].plot()\n",
    "cases[['Detrended1','Crime Counts']].std()"
   ]
  },
  {
   "cell_type": "code",
   "execution_count": 11,
   "metadata": {
    "collapsed": false
   },
   "outputs": [
    {
     "name": "stderr",
     "output_type": "stream",
     "text": [
      "/home/ray/anaconda3/lib/python3.5/site-packages/matplotlib/axes/_base.py:2787: UserWarning: Attempting to set identical left==right results\n",
      "in singular transformations; automatically expanding.\n",
      "left=547.0, right=547.0\n",
      "  'left=%s, right=%s') % (left, right))\n"
     ]
    },
    {
     "data": {
      "image/png": "[encoded data removed]",
      "text/plain": [
       "<matplotlib.figure.Figure at 0x7f48bc94b588>"
      ]
     },
     "metadata": {},
     "output_type": "display_data"
    }
   ],
   "source": [
    "fig, axes = plt.subplots(nrows=6, ncols=1, figsize=(6,12))\n",
    "\n",
    "descriptions = crimes['Summarized Offense Description'].str.capitalize()\n",
    "offenses = [descriptions.value_counts().index[i] for i in range(6)]\n",
    "\n",
    "for i in range(6):\n",
    "    descriptions[descriptions == offenses[i]].index.value_counts().resample('M', how='sum').plot(ax=axes[i])\n",
    "    axes[i].set_title(str(offenses[i]) + ' (monthly)')\n",
    "    axes[i].set_xlabel('Date')\n",
    "fig.tight_layout()"
   ]
  },
  {
   "cell_type": "code",
   "execution_count": 12,
   "metadata": {
    "collapsed": false
   },
   "outputs": [],
   "source": [
    "dist = crimes['District/Sector']\n",
    "distN = crimes[(dist == 'B') | (dist == 'N') | (dist == 'L') | (dist == 'J') | (dist == 'U')]\n",
    "distS = crimes[(dist == 'O') | (dist == 'R') | (dist == 'S')]\n",
    "distE = crimes[(dist == 'E') | (dist == 'C') | (dist == 'G')]\n",
    "distW = crimes[(dist == 'Q') | (dist == 'D') | (dist == 'M') | (dist == 'K')]\n",
    "distSW = crimes[(dist == 'W') | (dist == 'F')]"
   ]
  },
  {
   "cell_type": "code",
   "execution_count": 13,
   "metadata": {
    "collapsed": false
   },
   "outputs": [
    {
     "name": "stdout",
     "output_type": "stream",
     "text": [
      "North\n",
      "VEHICLE THEFT    4\n",
      "THREATS          2\n",
      "FRAUD            1\n",
      "ROBBERY          1\n",
      "TRESPASS         1\n",
      "Name: Summarized Offense Description, dtype: int64\n",
      "\n",
      "\n",
      "South\n",
      "ASSAULT           1\n",
      "TRESPASS          1\n",
      "BURGLARY          1\n",
      "DUI               1\n",
      "WARRANT ARREST    1\n",
      "Name: Summarized Offense Description, dtype: int64\n",
      "\n",
      "\n",
      "East\n",
      "OTHER PROPERTY    2\n",
      "ASSAULT           1\n",
      "SHOPLIFTING       1\n",
      "BIKE THEFT        1\n",
      "FRAUD             1\n",
      "Name: Summarized Offense Description, dtype: int64\n",
      "\n",
      "\n",
      "West\n",
      "ASSAULT           3\n",
      "WARRANT ARREST    2\n",
      "DISPUTE           2\n",
      "CAR PROWL         2\n",
      "TRESPASS          1\n",
      "Name: Summarized Offense Description, dtype: int64\n",
      "\n",
      "\n",
      "Southwest\n",
      "ASSAULT            1\n",
      "OTHER PROPERTY     1\n",
      "VEHICLE THEFT      1\n",
      "PROPERTY DAMAGE    1\n",
      "THREATS            1\n",
      "Name: Summarized Offense Description, dtype: int64\n",
      "\n",
      "\n"
     ]
    }
   ],
   "source": [
    "dist_list = [distN, distS, distE, distW, distSW]\n",
    "dist_str = ['North', 'South', 'East', 'West', 'Southwest']\n",
    "for i in range(5):\n",
    "    print(dist_str[i])\n",
    "    print(dist_list[i]['Summarized Offense Description'].value_counts().head(5))\n",
    "    print('\\n')"
   ]
  },
  {
   "cell_type": "code",
   "execution_count": 14,
   "metadata": {
    "collapsed": false
   },
   "outputs": [
    {
     "name": "stderr",
     "output_type": "stream",
     "text": [
      "/home/ray/anaconda3/lib/python3.5/site-packages/matplotlib/axes/_base.py:2787: UserWarning: Attempting to set identical left==right results\n",
      "in singular transformations; automatically expanding.\n",
      "left=547.0, right=547.0\n",
      "  'left=%s, right=%s') % (left, right))\n"
     ]
    },
    {
     "data": {
      "text/plain": [
       "East         0.000000\n",
       "North        0.242061\n",
       "South        0.000000\n",
       "Southwest    0.000000\n",
       "West         0.000000\n",
       "dtype: float64"
      ]
     },
     "execution_count": 14,
     "metadata": {},
     "output_type": "execute_result"
    },
    {
     "data": {
      "image/png": "[encoded data removed]",
      "text/plain": [
       "<matplotlib.figure.Figure at 0x7f48b2837b70>"
      ]
     },
     "metadata": {},
     "output_type": "display_data"
    }
   ],
   "source": [
    "dist_tot = pd.DataFrame({'North': distN.index.value_counts(), 'South': distS.index.value_counts(),\n",
    "                         'East': distE.index.value_counts(), 'West': distW.index.value_counts(),\n",
    "                         'Southwest': distSW.index.value_counts()})\n",
    "\n",
    "dist_tot['2008-01-01':].resample('M', how='sum').plot()\n",
    "cases['South Counts'] = dist_tot['South'].index.value_counts().resample('M', how='sum')\n",
    "dist_tot['2008-01-01':].std() / dist_tot['2008-01-01':].mean()"
   ]
  },
  {
   "cell_type": "code",
   "execution_count": 15,
   "metadata": {
    "collapsed": true
   },
   "outputs": [],
   "source": [
    "cases['Month Count'] = np.arange(len(cases))\n",
    "\n",
    "headers = ['Daylight Hours', 'Weekday', 'South Counts', 'Month Count']"
   ]
  },
  {
   "cell_type": "code",
   "execution_count": 16,
   "metadata": {
    "collapsed": false
   },
   "outputs": [],
   "source": [
    "fit = LinearRegression().fit(cases[headers], cases['Crime Counts'])\n",
    "\n",
    "cases['Trend3'] = fit.predict(cases[headers])\n",
    "cases['Detrended3'] = cases['Crime Counts'] - cases['Trend3'] + cases['Trend3'].mean()"
   ]
  },
  {
   "cell_type": "code",
   "execution_count": 17,
   "metadata": {
    "collapsed": false
   },
   "outputs": [
    {
     "name": "stderr",
     "output_type": "stream",
     "text": [
      "/home/ray/anaconda3/lib/python3.5/site-packages/matplotlib/axes/_base.py:2787: UserWarning: Attempting to set identical left==right results\n",
      "in singular transformations; automatically expanding.\n",
      "left=547.0, right=547.0\n",
      "  'left=%s, right=%s') % (left, right))\n"
     ]
    },
    {
     "data": {
      "text/plain": [
       "Crime Counts   NaN\n",
       "Detrended3     NaN\n",
       "dtype: float64"
      ]
     },
     "execution_count": 17,
     "metadata": {},
     "output_type": "execute_result"
    },
    {
     "data": {
      "image/png": "[encoded data removed]",
      "text/plain": [
       "<matplotlib.figure.Figure at 0x7f48b2c49860>"
      ]
     },
     "metadata": {},
     "output_type": "display_data"
    }
   ],
   "source": [
    "cases[['Crime Counts','Trend3','Detrended3']].plot()\n",
    "cases[['Crime Counts','Detrended3']].std()"
   ]
  },
  {
   "cell_type": "code",
   "execution_count": 18,
   "metadata": {
    "collapsed": false
   },
   "outputs": [
    {
     "data": {
      "text/plain": [
       "<matplotlib.axes._subplots.AxesSubplot at 0x7f48b29b09e8>"
      ]
     },
     "execution_count": 18,
     "metadata": {},
     "output_type": "execute_result"
    },
    {
     "data": {
      "image/png": "[encoded data removed]",
      "text/plain": [
       "<matplotlib.figure.Figure at 0x7f48b296c208>"
      ]
     },
     "metadata": {},
     "output_type": "display_data"
    }
   ],
   "source": [
    "violations.resample('M',how='sum')[['Case Creation','Trend3','DeTrended3']].plot()"
   ]
  },
  {
   "cell_type": "code",
   "execution_count": 19,
   "metadata": {
    "collapsed": false
   },
   "outputs": [],
   "source": [
    "code_violations = pd.read_csv('../code-violations-seattle/violations.csv', header=0, index_col='Date Case Created')\n",
    "code_density = code_violations[np.isfinite(code_violations['Longitude']) & np.isfinite(code_violations['Latitude'])]\n",
    "\n",
    "crime_density = crimes[np.isfinite(crimes['Longitude']) & np.isfinite(crimes['Latitude'])]\n",
    "crime_density = crime_density[crime_density['Longitude'] > -123.0]"
   ]
  },
  {
   "cell_type": "code",
   "execution_count": 20,
   "metadata": {
    "collapsed": false
   },
   "outputs": [
    {
     "ename": "KeyboardInterrupt",
     "evalue": "",
     "output_type": "error",
     "traceback": [
      "\u001b[1;31m---------------------------------------------------------------------------\u001b[0m",
      "\u001b[1;31mKeyboardInterrupt\u001b[0m                         Traceback (most recent call last)",
      "\u001b[1;32m<ipython-input-20-494485631a6b>\u001b[0m in \u001b[0;36m<module>\u001b[1;34m()\u001b[0m\n\u001b[0;32m      9\u001b[0m \u001b[1;33m\u001b[0m\u001b[0m\n\u001b[0;32m     10\u001b[0m \u001b[0mcode_density\u001b[0m\u001b[1;33m[\u001b[0m\u001b[1;34m'Latitude'\u001b[0m\u001b[1;33m]\u001b[0m\u001b[1;33m.\u001b[0m\u001b[0mplot\u001b[0m\u001b[1;33m(\u001b[0m\u001b[0max\u001b[0m\u001b[1;33m=\u001b[0m\u001b[0maxes1\u001b[0m\u001b[1;33m,\u001b[0m \u001b[0mkind\u001b[0m\u001b[1;33m=\u001b[0m\u001b[1;34m'kde'\u001b[0m\u001b[1;33m,\u001b[0m \u001b[0mtitle\u001b[0m\u001b[1;33m=\u001b[0m\u001b[1;34m'Code Latitude Density'\u001b[0m\u001b[1;33m)\u001b[0m\u001b[1;33m\u001b[0m\u001b[0m\n\u001b[1;32m---> 11\u001b[1;33m \u001b[0mcode_density\u001b[0m\u001b[1;33m[\u001b[0m\u001b[1;34m'Longitude'\u001b[0m\u001b[1;33m]\u001b[0m\u001b[1;33m.\u001b[0m\u001b[0mplot\u001b[0m\u001b[1;33m(\u001b[0m\u001b[0max\u001b[0m\u001b[1;33m=\u001b[0m\u001b[0maxes2\u001b[0m\u001b[1;33m,\u001b[0m \u001b[0mkind\u001b[0m\u001b[1;33m=\u001b[0m\u001b[1;34m'kde'\u001b[0m\u001b[1;33m,\u001b[0m \u001b[0mtitle\u001b[0m\u001b[1;33m=\u001b[0m\u001b[1;34m'Code Longitude Density'\u001b[0m\u001b[1;33m)\u001b[0m\u001b[1;33m\u001b[0m\u001b[0m\n\u001b[0m\u001b[0;32m     12\u001b[0m \u001b[0mcode_density\u001b[0m\u001b[1;33m.\u001b[0m\u001b[0mplot\u001b[0m\u001b[1;33m(\u001b[0m\u001b[0max\u001b[0m\u001b[1;33m=\u001b[0m\u001b[0maxes3\u001b[0m\u001b[1;33m,\u001b[0m \u001b[0mkind\u001b[0m\u001b[1;33m=\u001b[0m\u001b[1;34m'hexbin'\u001b[0m\u001b[1;33m,\u001b[0m \u001b[0mx\u001b[0m\u001b[1;33m=\u001b[0m\u001b[1;34m'Longitude'\u001b[0m\u001b[1;33m,\u001b[0m \u001b[0my\u001b[0m\u001b[1;33m=\u001b[0m\u001b[1;34m'Latitude'\u001b[0m\u001b[1;33m,\u001b[0m \u001b[0mgridsize\u001b[0m\u001b[1;33m=\u001b[0m\u001b[1;36m60\u001b[0m\u001b[1;33m,\u001b[0m \u001b[0mtitle\u001b[0m\u001b[1;33m=\u001b[0m\u001b[1;34m'Code Violation Density'\u001b[0m\u001b[1;33m)\u001b[0m\u001b[1;33m\u001b[0m\u001b[0m\n\u001b[0;32m     13\u001b[0m \u001b[1;33m\u001b[0m\u001b[0m\n",
      "\u001b[1;32m/home/ray/anaconda3/lib/python3.5/site-packages/pandas/tools/plotting.py\u001b[0m in \u001b[0;36m__call__\u001b[1;34m(self, kind, ax, figsize, use_index, title, grid, legend, style, logx, logy, loglog, xticks, yticks, xlim, ylim, rot, fontsize, colormap, table, yerr, xerr, label, secondary_y, **kwds)\u001b[0m\n\u001b[0;32m   3495\u001b[0m                            \u001b[0mcolormap\u001b[0m\u001b[1;33m=\u001b[0m\u001b[0mcolormap\u001b[0m\u001b[1;33m,\u001b[0m \u001b[0mtable\u001b[0m\u001b[1;33m=\u001b[0m\u001b[0mtable\u001b[0m\u001b[1;33m,\u001b[0m \u001b[0myerr\u001b[0m\u001b[1;33m=\u001b[0m\u001b[0myerr\u001b[0m\u001b[1;33m,\u001b[0m\u001b[1;33m\u001b[0m\u001b[0m\n\u001b[0;32m   3496\u001b[0m                            \u001b[0mxerr\u001b[0m\u001b[1;33m=\u001b[0m\u001b[0mxerr\u001b[0m\u001b[1;33m,\u001b[0m \u001b[0mlabel\u001b[0m\u001b[1;33m=\u001b[0m\u001b[0mlabel\u001b[0m\u001b[1;33m,\u001b[0m \u001b[0msecondary_y\u001b[0m\u001b[1;33m=\u001b[0m\u001b[0msecondary_y\u001b[0m\u001b[1;33m,\u001b[0m\u001b[1;33m\u001b[0m\u001b[0m\n\u001b[1;32m-> 3497\u001b[1;33m                            **kwds)\n\u001b[0m\u001b[0;32m   3498\u001b[0m     \u001b[0m__call__\u001b[0m\u001b[1;33m.\u001b[0m\u001b[0m__doc__\u001b[0m \u001b[1;33m=\u001b[0m \u001b[0mplot_series\u001b[0m\u001b[1;33m.\u001b[0m\u001b[0m__doc__\u001b[0m\u001b[1;33m\u001b[0m\u001b[0m\n\u001b[0;32m   3499\u001b[0m \u001b[1;33m\u001b[0m\u001b[0m\n",
      "\u001b[1;32m/home/ray/anaconda3/lib/python3.5/site-packages/pandas/tools/plotting.py\u001b[0m in \u001b[0;36mplot_series\u001b[1;34m(data, kind, ax, figsize, use_index, title, grid, legend, style, logx, logy, loglog, xticks, yticks, xlim, ylim, rot, fontsize, colormap, table, yerr, xerr, label, secondary_y, **kwds)\u001b[0m\n\u001b[0;32m   2585\u001b[0m                  \u001b[0myerr\u001b[0m\u001b[1;33m=\u001b[0m\u001b[0myerr\u001b[0m\u001b[1;33m,\u001b[0m \u001b[0mxerr\u001b[0m\u001b[1;33m=\u001b[0m\u001b[0mxerr\u001b[0m\u001b[1;33m,\u001b[0m\u001b[1;33m\u001b[0m\u001b[0m\n\u001b[0;32m   2586\u001b[0m                  \u001b[0mlabel\u001b[0m\u001b[1;33m=\u001b[0m\u001b[0mlabel\u001b[0m\u001b[1;33m,\u001b[0m \u001b[0msecondary_y\u001b[0m\u001b[1;33m=\u001b[0m\u001b[0msecondary_y\u001b[0m\u001b[1;33m,\u001b[0m\u001b[1;33m\u001b[0m\u001b[0m\n\u001b[1;32m-> 2587\u001b[1;33m                  **kwds)\n\u001b[0m\u001b[0;32m   2588\u001b[0m \u001b[1;33m\u001b[0m\u001b[0m\n\u001b[0;32m   2589\u001b[0m \u001b[1;33m\u001b[0m\u001b[0m\n",
      "\u001b[1;32m/home/ray/anaconda3/lib/python3.5/site-packages/pandas/tools/plotting.py\u001b[0m in \u001b[0;36m_plot\u001b[1;34m(data, x, y, subplots, ax, kind, **kwds)\u001b[0m\n\u001b[0;32m   2382\u001b[0m         \u001b[0mplot_obj\u001b[0m \u001b[1;33m=\u001b[0m \u001b[0mklass\u001b[0m\u001b[1;33m(\u001b[0m\u001b[0mdata\u001b[0m\u001b[1;33m,\u001b[0m \u001b[0msubplots\u001b[0m\u001b[1;33m=\u001b[0m\u001b[0msubplots\u001b[0m\u001b[1;33m,\u001b[0m \u001b[0max\u001b[0m\u001b[1;33m=\u001b[0m\u001b[0max\u001b[0m\u001b[1;33m,\u001b[0m \u001b[0mkind\u001b[0m\u001b[1;33m=\u001b[0m\u001b[0mkind\u001b[0m\u001b[1;33m,\u001b[0m \u001b[1;33m**\u001b[0m\u001b[0mkwds\u001b[0m\u001b[1;33m)\u001b[0m\u001b[1;33m\u001b[0m\u001b[0m\n\u001b[0;32m   2383\u001b[0m \u001b[1;33m\u001b[0m\u001b[0m\n\u001b[1;32m-> 2384\u001b[1;33m     \u001b[0mplot_obj\u001b[0m\u001b[1;33m.\u001b[0m\u001b[0mgenerate\u001b[0m\u001b[1;33m(\u001b[0m\u001b[1;33m)\u001b[0m\u001b[1;33m\u001b[0m\u001b[0m\n\u001b[0m\u001b[0;32m   2385\u001b[0m     \u001b[0mplot_obj\u001b[0m\u001b[1;33m.\u001b[0m\u001b[0mdraw\u001b[0m\u001b[1;33m(\u001b[0m\u001b[1;33m)\u001b[0m\u001b[1;33m\u001b[0m\u001b[0m\n\u001b[0;32m   2386\u001b[0m     \u001b[1;32mreturn\u001b[0m \u001b[0mplot_obj\u001b[0m\u001b[1;33m.\u001b[0m\u001b[0mresult\u001b[0m\u001b[1;33m\u001b[0m\u001b[0m\n",
      "\u001b[1;32m/home/ray/anaconda3/lib/python3.5/site-packages/pandas/tools/plotting.py\u001b[0m in \u001b[0;36mgenerate\u001b[1;34m(self)\u001b[0m\n\u001b[0;32m    985\u001b[0m         \u001b[0mself\u001b[0m\u001b[1;33m.\u001b[0m\u001b[0m_compute_plot_data\u001b[0m\u001b[1;33m(\u001b[0m\u001b[1;33m)\u001b[0m\u001b[1;33m\u001b[0m\u001b[0m\n\u001b[0;32m    986\u001b[0m         \u001b[0mself\u001b[0m\u001b[1;33m.\u001b[0m\u001b[0m_setup_subplots\u001b[0m\u001b[1;33m(\u001b[0m\u001b[1;33m)\u001b[0m\u001b[1;33m\u001b[0m\u001b[0m\n\u001b[1;32m--> 987\u001b[1;33m         \u001b[0mself\u001b[0m\u001b[1;33m.\u001b[0m\u001b[0m_make_plot\u001b[0m\u001b[1;33m(\u001b[0m\u001b[1;33m)\u001b[0m\u001b[1;33m\u001b[0m\u001b[0m\n\u001b[0m\u001b[0;32m    988\u001b[0m         \u001b[0mself\u001b[0m\u001b[1;33m.\u001b[0m\u001b[0m_add_table\u001b[0m\u001b[1;33m(\u001b[0m\u001b[1;33m)\u001b[0m\u001b[1;33m\u001b[0m\u001b[0m\n\u001b[0;32m    989\u001b[0m         \u001b[0mself\u001b[0m\u001b[1;33m.\u001b[0m\u001b[0m_make_legend\u001b[0m\u001b[1;33m(\u001b[0m\u001b[1;33m)\u001b[0m\u001b[1;33m\u001b[0m\u001b[0m\n",
      "\u001b[1;32m/home/ray/anaconda3/lib/python3.5/site-packages/pandas/tools/plotting.py\u001b[0m in \u001b[0;36m_make_plot\u001b[1;34m(self)\u001b[0m\n\u001b[0;32m   2020\u001b[0m             \u001b[0mkwds\u001b[0m \u001b[1;33m=\u001b[0m \u001b[0mself\u001b[0m\u001b[1;33m.\u001b[0m\u001b[0m_make_plot_keywords\u001b[0m\u001b[1;33m(\u001b[0m\u001b[0mkwds\u001b[0m\u001b[1;33m,\u001b[0m \u001b[0my\u001b[0m\u001b[1;33m)\u001b[0m\u001b[1;33m\u001b[0m\u001b[0m\n\u001b[0;32m   2021\u001b[0m             artists = self._plot(ax, y, column_num=i,\n\u001b[1;32m-> 2022\u001b[1;33m                                  stacking_id=stacking_id, **kwds)\n\u001b[0m\u001b[0;32m   2023\u001b[0m             \u001b[0mself\u001b[0m\u001b[1;33m.\u001b[0m\u001b[0m_add_legend_handle\u001b[0m\u001b[1;33m(\u001b[0m\u001b[0martists\u001b[0m\u001b[1;33m[\u001b[0m\u001b[1;36m0\u001b[0m\u001b[1;33m]\u001b[0m\u001b[1;33m,\u001b[0m \u001b[0mlabel\u001b[0m\u001b[1;33m,\u001b[0m \u001b[0mindex\u001b[0m\u001b[1;33m=\u001b[0m\u001b[0mi\u001b[0m\u001b[1;33m)\u001b[0m\u001b[1;33m\u001b[0m\u001b[0m\n\u001b[0;32m   2024\u001b[0m \u001b[1;33m\u001b[0m\u001b[0m\n",
      "\u001b[1;32m/home/ray/anaconda3/lib/python3.5/site-packages/pandas/tools/plotting.py\u001b[0m in \u001b[0;36m_plot\u001b[1;34m(cls, ax, y, style, bw_method, ind, column_num, stacking_id, **kwds)\u001b[0m\n\u001b[0;32m   2082\u001b[0m                 \u001b[0mwarnings\u001b[0m\u001b[1;33m.\u001b[0m\u001b[0mwarn\u001b[0m\u001b[1;33m(\u001b[0m\u001b[0mmsg\u001b[0m\u001b[1;33m)\u001b[0m\u001b[1;33m\u001b[0m\u001b[0m\n\u001b[0;32m   2083\u001b[0m \u001b[1;33m\u001b[0m\u001b[0m\n\u001b[1;32m-> 2084\u001b[1;33m         \u001b[0my\u001b[0m \u001b[1;33m=\u001b[0m \u001b[0mgkde\u001b[0m\u001b[1;33m.\u001b[0m\u001b[0mevaluate\u001b[0m\u001b[1;33m(\u001b[0m\u001b[0mind\u001b[0m\u001b[1;33m)\u001b[0m\u001b[1;33m\u001b[0m\u001b[0m\n\u001b[0m\u001b[0;32m   2085\u001b[0m         \u001b[0mlines\u001b[0m \u001b[1;33m=\u001b[0m \u001b[0mMPLPlot\u001b[0m\u001b[1;33m.\u001b[0m\u001b[0m_plot\u001b[0m\u001b[1;33m(\u001b[0m\u001b[0max\u001b[0m\u001b[1;33m,\u001b[0m \u001b[0mind\u001b[0m\u001b[1;33m,\u001b[0m \u001b[0my\u001b[0m\u001b[1;33m,\u001b[0m \u001b[0mstyle\u001b[0m\u001b[1;33m=\u001b[0m\u001b[0mstyle\u001b[0m\u001b[1;33m,\u001b[0m \u001b[1;33m**\u001b[0m\u001b[0mkwds\u001b[0m\u001b[1;33m)\u001b[0m\u001b[1;33m\u001b[0m\u001b[0m\n\u001b[0;32m   2086\u001b[0m         \u001b[1;32mreturn\u001b[0m \u001b[0mlines\u001b[0m\u001b[1;33m\u001b[0m\u001b[0m\n",
      "\u001b[1;32m/home/ray/anaconda3/lib/python3.5/site-packages/scipy/stats/kde.py\u001b[0m in \u001b[0;36mevaluate\u001b[1;34m(self, points)\u001b[0m\n\u001b[0;32m    219\u001b[0m                 \u001b[0mtdiff\u001b[0m \u001b[1;33m=\u001b[0m \u001b[0mdot\u001b[0m\u001b[1;33m(\u001b[0m\u001b[0mself\u001b[0m\u001b[1;33m.\u001b[0m\u001b[0minv_cov\u001b[0m\u001b[1;33m,\u001b[0m \u001b[0mdiff\u001b[0m\u001b[1;33m)\u001b[0m\u001b[1;33m\u001b[0m\u001b[0m\n\u001b[0;32m    220\u001b[0m                 \u001b[0menergy\u001b[0m \u001b[1;33m=\u001b[0m \u001b[0msum\u001b[0m\u001b[1;33m(\u001b[0m\u001b[0mdiff\u001b[0m \u001b[1;33m*\u001b[0m \u001b[0mtdiff\u001b[0m\u001b[1;33m,\u001b[0m \u001b[0maxis\u001b[0m\u001b[1;33m=\u001b[0m\u001b[1;36m0\u001b[0m\u001b[1;33m)\u001b[0m \u001b[1;33m/\u001b[0m \u001b[1;36m2.0\u001b[0m\u001b[1;33m\u001b[0m\u001b[0m\n\u001b[1;32m--> 221\u001b[1;33m                 \u001b[0mresult\u001b[0m\u001b[1;33m[\u001b[0m\u001b[0mi\u001b[0m\u001b[1;33m]\u001b[0m \u001b[1;33m=\u001b[0m \u001b[0msum\u001b[0m\u001b[1;33m(\u001b[0m\u001b[0mexp\u001b[0m\u001b[1;33m(\u001b[0m\u001b[1;33m-\u001b[0m\u001b[0menergy\u001b[0m\u001b[1;33m)\u001b[0m\u001b[1;33m,\u001b[0m \u001b[0maxis\u001b[0m\u001b[1;33m=\u001b[0m\u001b[1;36m0\u001b[0m\u001b[1;33m)\u001b[0m\u001b[1;33m\u001b[0m\u001b[0m\n\u001b[0m\u001b[0;32m    222\u001b[0m \u001b[1;33m\u001b[0m\u001b[0m\n\u001b[0;32m    223\u001b[0m         \u001b[0mresult\u001b[0m \u001b[1;33m=\u001b[0m \u001b[0mresult\u001b[0m \u001b[1;33m/\u001b[0m \u001b[0mself\u001b[0m\u001b[1;33m.\u001b[0m\u001b[0m_norm_factor\u001b[0m\u001b[1;33m\u001b[0m\u001b[0m\n",
      "\u001b[1;32m/home/ray/anaconda3/lib/python3.5/site-packages/numpy/core/fromnumeric.py\u001b[0m in \u001b[0;36msum\u001b[1;34m(a, axis, dtype, out, keepdims)\u001b[0m\n\u001b[0;32m   1833\u001b[0m     \u001b[1;32melse\u001b[0m\u001b[1;33m:\u001b[0m\u001b[1;33m\u001b[0m\u001b[0m\n\u001b[0;32m   1834\u001b[0m         return _methods._sum(a, axis=axis, dtype=dtype,\n\u001b[1;32m-> 1835\u001b[1;33m                              out=out, keepdims=keepdims)\n\u001b[0m\u001b[0;32m   1836\u001b[0m \u001b[1;33m\u001b[0m\u001b[0m\n\u001b[0;32m   1837\u001b[0m \u001b[1;33m\u001b[0m\u001b[0m\n",
      "\u001b[1;32m/home/ray/anaconda3/lib/python3.5/site-packages/numpy/core/_methods.py\u001b[0m in \u001b[0;36m_sum\u001b[1;34m(a, axis, dtype, out, keepdims)\u001b[0m\n\u001b[0;32m     30\u001b[0m \u001b[1;33m\u001b[0m\u001b[0m\n\u001b[0;32m     31\u001b[0m \u001b[1;32mdef\u001b[0m \u001b[0m_sum\u001b[0m\u001b[1;33m(\u001b[0m\u001b[0ma\u001b[0m\u001b[1;33m,\u001b[0m \u001b[0maxis\u001b[0m\u001b[1;33m=\u001b[0m\u001b[1;32mNone\u001b[0m\u001b[1;33m,\u001b[0m \u001b[0mdtype\u001b[0m\u001b[1;33m=\u001b[0m\u001b[1;32mNone\u001b[0m\u001b[1;33m,\u001b[0m \u001b[0mout\u001b[0m\u001b[1;33m=\u001b[0m\u001b[1;32mNone\u001b[0m\u001b[1;33m,\u001b[0m \u001b[0mkeepdims\u001b[0m\u001b[1;33m=\u001b[0m\u001b[1;32mFalse\u001b[0m\u001b[1;33m)\u001b[0m\u001b[1;33m:\u001b[0m\u001b[1;33m\u001b[0m\u001b[0m\n\u001b[1;32m---> 32\u001b[1;33m     \u001b[1;32mreturn\u001b[0m \u001b[0mumr_sum\u001b[0m\u001b[1;33m(\u001b[0m\u001b[0ma\u001b[0m\u001b[1;33m,\u001b[0m \u001b[0maxis\u001b[0m\u001b[1;33m,\u001b[0m \u001b[0mdtype\u001b[0m\u001b[1;33m,\u001b[0m \u001b[0mout\u001b[0m\u001b[1;33m,\u001b[0m \u001b[0mkeepdims\u001b[0m\u001b[1;33m)\u001b[0m\u001b[1;33m\u001b[0m\u001b[0m\n\u001b[0m\u001b[0;32m     33\u001b[0m \u001b[1;33m\u001b[0m\u001b[0m\n\u001b[0;32m     34\u001b[0m \u001b[1;32mdef\u001b[0m \u001b[0m_prod\u001b[0m\u001b[1;33m(\u001b[0m\u001b[0ma\u001b[0m\u001b[1;33m,\u001b[0m \u001b[0maxis\u001b[0m\u001b[1;33m=\u001b[0m\u001b[1;32mNone\u001b[0m\u001b[1;33m,\u001b[0m \u001b[0mdtype\u001b[0m\u001b[1;33m=\u001b[0m\u001b[1;32mNone\u001b[0m\u001b[1;33m,\u001b[0m \u001b[0mout\u001b[0m\u001b[1;33m=\u001b[0m\u001b[1;32mNone\u001b[0m\u001b[1;33m,\u001b[0m \u001b[0mkeepdims\u001b[0m\u001b[1;33m=\u001b[0m\u001b[1;32mFalse\u001b[0m\u001b[1;33m)\u001b[0m\u001b[1;33m:\u001b[0m\u001b[1;33m\u001b[0m\u001b[0m\n",
      "\u001b[1;31mKeyboardInterrupt\u001b[0m: "
     ]
    },
    {
     "data": {
      "image/png": "[encoded data removed]",
      "text/plain": [
       "<matplotlib.figure.Figure at 0x7f48b2029ef0>"
      ]
     },
     "metadata": {},
     "output_type": "display_data"
    }
   ],
   "source": [
    "axes1 = plt.subplot2grid((2,2),(0,0))\n",
    "axes2 = plt.subplot2grid((2,2),(1,0))\n",
    "axes3 = plt.subplot2grid((2,2),(0,1), rowspan=2)\n",
    "axes2.xaxis.set_major_formatter(plt.FormatStrFormatter('%.02f'))\n",
    "axes3.xaxis.set_major_formatter(plt.FormatStrFormatter('%.02f'))\n",
    "\n",
    "axes1.set_xlabel('Latitude')\n",
    "axes2.set_xlabel('Longitude')\n",
    "\n",
    "code_density['Latitude'].plot(ax=axes1, kind='kde', title='Code Latitude Density')\n",
    "code_density['Longitude'].plot(ax=axes2, kind='kde', title='Code Longitude Density')\n",
    "code_density.plot(ax=axes3, kind='hexbin', x='Longitude', y='Latitude', gridsize=60, title='Code Violation Density')\n",
    "\n",
    "plt.tight_layout()"
   ]
  },
  {
   "cell_type": "code",
   "execution_count": null,
   "metadata": {
    "collapsed": false,
    "scrolled": true
   },
   "outputs": [],
   "source": [
    "axes1 = plt.subplot2grid((2,2),(0,0))\n",
    "axes2 = plt.subplot2grid((2,2),(1,0))\n",
    "axes3 = plt.subplot2grid((2,2),(0,1), rowspan=2)\n",
    "axes2.xaxis.set_major_formatter(plt.FormatStrFormatter('%.02f'))\n",
    "axes3.xaxis.set_major_formatter(plt.FormatStrFormatter('%.02f'))\n",
    "\n",
    "axes1.set_xlabel('Latitude')\n",
    "axes2.set_xlabel('Longitude')\n",
    "\n",
    "crime_density['Latitude'].plot(ax=axes1, kind='kde', title='Crime Latitude Density')\n",
    "crime_density['Longitude'].plot(ax=axes2, kind='kde', title='Crime Longitude Density')\n",
    "crime_density.plot(ax=axes3, kind='hexbin', x='Longitude', y='Latitude', gridsize=60, title='Crime Density')\n",
    "\n",
    "plt.tight_layout()"
   ]
  },
  {
   "cell_type": "code",
   "execution_count": null,
   "metadata": {
    "collapsed": false
   },
   "outputs": [],
   "source": [
    "import fiona"
   ]
  },
  {
   "cell_type": "code",
   "execution_count": null,
   "metadata": {
    "collapsed": false
   },
   "outputs": [],
   "source": [
    "shapefilename ='Neighborhoods/WGS84/Neighborhoods'\n",
    "shp = fiona.open(shapefilename+'.shp')\n",
    "coords = shp.bounds\n",
    "w, h = coords[2] - coords[0], coords[3] - coords[1]\n",
    "extra = 0.01"
   ]
  },
  {
   "cell_type": "code",
   "execution_count": null,
   "metadata": {
    "collapsed": false
   },
   "outputs": [],
   "source": [
    "from mpl_toolkits.basemap import Basemap\n",
    "m = Basemap(\n",
    "    projection='tmerc', ellps='WGS84',\n",
    "    lon_0=np.mean([coords[0], coords[2]]),\n",
    "    lat_0=np.mean([coords[1], coords[3]]),\n",
    "    llcrnrlon=coords[0] - extra * w,\n",
    "    llcrnrlat=coords[1] - (extra * h), \n",
    "    urcrnrlon=coords[2] + extra * w,\n",
    "    urcrnrlat=coords[3] + (extra * h),\n",
    "    resolution='i',  suppress_ticks=True)\n",
    "\n",
    "_out = m.readshapefile(shapefilename, name='seattle', drawbounds=False, color='none', zorder=2)"
   ]
  },
  {
   "cell_type": "code",
   "execution_count": null,
   "metadata": {
    "collapsed": false
   },
   "outputs": [],
   "source": [
    "from shapely.geometry import Point, Polygon, MultiPoint, MultiPolygon\n",
    "from shapely.prepared import prep\n",
    "from matplotlib.collections import PatchCollection\n",
    "from descartes import PolygonPatch\n",
    "\n",
    "df_map = pd.DataFrame({\n",
    "    'poly': [Polygon(hood_points) for hood_points in m.seattle],\n",
    "    'name': [hood['S_HOOD'] for hood in m.seattle_info]\n",
    "})"
   ]
  },
  {
   "cell_type": "code",
   "execution_count": null,
   "metadata": {
    "collapsed": false
   },
   "outputs": [],
   "source": [
    "mapped_points = [Point(m(mapped_x, mapped_y)) for mapped_x, mapped_y in zip(crimes['Longitude'], \n",
    "            crimes['Latitude'])]\n",
    "all_points = MultiPoint(mapped_points)\n",
    "\n",
    "mapped_points5yr = [Point(m(mapped_x, mapped_y)) for mapped_x, mapped_y in zip(crimes5yr['Longitude'], \n",
    "            crimes5yr['Latitude'])]\n",
    "all_points5yr = MultiPoint(mapped_points5yr)\n",
    "\n",
    "hood_polygons = prep(MultiPolygon(list(df_map['poly'].values)))"
   ]
  },
  {
   "cell_type": "code",
   "execution_count": null,
   "metadata": {
    "collapsed": false
   },
   "outputs": [],
   "source": [
    "city_points = [i for i in all_points if hood_polygons.contains(i)]\n",
    "city_points5yr = [i for i in all_points5yr if hood_polygons.contains(i)]"
   ]
  },
  {
   "cell_type": "code",
   "execution_count": null,
   "metadata": {
    "collapsed": false
   },
   "outputs": [],
   "source": [
    "def num_of_contained_points(apolygon, city_points):\n",
    "    contained = [i for i in city_points if prep(apolygon).contains(i)]\n",
    "    \n",
    "    return int(len(contained))\n",
    "\n",
    "df_map['hood_count'] = df_map['poly'].apply(num_of_contained_points, args=(city_points,))\n",
    "df_map['hood_count5yr'] = df_map['poly'].apply(num_of_contained_points, args=(city_points5yr,))"
   ]
  },
  {
   "cell_type": "code",
   "execution_count": null,
   "metadata": {
    "collapsed": true
   },
   "outputs": [],
   "source": [
    "import colormaps as cmaps\n",
    "plt.register_cmap(name='viridis', cmap=cmaps.viridis)"
   ]
  },
  {
   "cell_type": "code",
   "execution_count": null,
   "metadata": {
    "collapsed": false
   },
   "outputs": [],
   "source": [
    "def self_categorize(entry, breaks):\n",
    "    for i in range(len(breaks)-1):\n",
    "        if entry > breaks[i] and entry <= breaks[i+1]:\n",
    "            return i\n",
    "    return -1\n",
    "\n",
    "def custom_colorbar(cmap, **kwargs):    \n",
    "    from matplotlib.colors import BoundaryNorm\n",
    "    from matplotlib.cm import ScalarMappable\n",
    "    import matplotlib.colors as mplc\n",
    "    \n",
    "    norm = mplc.Normalize(vmin=0., vmax=40000.)\n",
    "    mappable = ScalarMappable(cmap=cmap, norm=norm)\n",
    "    mappable.set_array([])\n",
    "    colorbar = plt.colorbar(mappable, **kwargs)\n",
    "    colorbar.set_label('Recorded Criminal Cases')\n",
    "    return colorbar"
   ]
  },
  {
   "cell_type": "code",
   "execution_count": null,
   "metadata": {
    "collapsed": true
   },
   "outputs": [],
   "source": [
    "#Create patches for each neighborhood\n",
    "df_map['patches'] = df_map['poly'].map(lambda x: PolygonPatch(x, ec='#555555', lw=.8, alpha=1., zorder=4))\n",
    "pc = PatchCollection(df_map['patches'], match_original=True)\n",
    "df_map['patches5yr'] = df_map['poly'].map(lambda x: PolygonPatch(x, ec='#555555', lw=.8, alpha=1., zorder=4))\n",
    "pc5yr = PatchCollection(df_map['patches5yr'], match_original=True)"
   ]
  },
  {
   "cell_type": "code",
   "execution_count": null,
   "metadata": {
    "collapsed": false,
    "scrolled": true
   },
   "outputs": [],
   "source": [
    "#Create colormap & set patch color\n",
    "cmap = plt.get_cmap('viridis')\n",
    "\n",
    "hood_norm = (df_map.hood_count.values - df_map.hood_count.values.min())/(\n",
    "                  df_map.hood_count.values.max()-df_map.hood_count.values.min())\n",
    "cmap_list = [cmap(val) for val in hood_norm]\n",
    "pc.set_facecolor(cmap_list)\n",
    "\n",
    "#Create figure, plot patch collection\n",
    "figwidth = 10\n",
    "fig = plt.figure(figsize=(figwidth, figwidth*h/w))\n",
    "ax = fig.add_subplot(111, axisbg='#555555', frame_on=False)\n",
    "ax.add_collection(pc)\n",
    "\n",
    "#Draw a map scale\n",
    "m.drawmapscale(coords[0]+0.11, coords[1],\n",
    "    coords[2], coords[3], 5.,\n",
    "    units='km', fontsize=16, barstyle='fancy', labelstyle='simple',\n",
    "    fillcolor1='w', fillcolor2='#555555', fontcolor='#555555',\n",
    "    zorder=5)\n",
    "\n",
    "#Create colorbar\n",
    "cbar = custom_colorbar(cmap, shrink=0.5)\n",
    "cbar.ax.tick_params(labelsize=10)\n",
    "\n",
    "fig.suptitle(\"Criminal Activity in Seattle Neighborhoods\", fontdict={'size':18, 'fontweight':'bold'}, y=0.935)\n",
    "ax.set_title(\"Using all recorded criminal cases since 2008\", fontsize=10, y=0.995)\n",
    "plt.savefig('allcrimes.png', dpi=100, frameon=False, bbox_inches='tight', pad_inches=0.5, facecolor='#F2F2F2')"
   ]
  },
  {
   "cell_type": "code",
   "execution_count": null,
   "metadata": {
    "collapsed": false
   },
   "outputs": [],
   "source": [
    "#Create colormap & set patch color\n",
    "hood_norm5yr = (df_map.hood_count5yr.values - df_map.hood_count5yr.values.min())/(\n",
    "                  df_map.hood_count5yr.values.max()-df_map.hood_count5yr.values.min())\n",
    "cmap_list = [cmap(val) for val in hood_norm5yr]\n",
    "pc5yr.set_facecolor(cmap_list)\n",
    "\n",
    "#Create figure, plot patch collection\n",
    "figwidth = 10\n",
    "fig = plt.figure(figsize=(figwidth, figwidth*h/w))\n",
    "ax = fig.add_subplot(111, axisbg='#555555', frame_on=False)\n",
    "ax.add_collection(pc5yr)\n",
    "\n",
    "#Draw a map scale\n",
    "m.drawmapscale(coords[0]+0.11, coords[1],\n",
    "    coords[2], coords[3], 5.,\n",
    "    units='km', fontsize=16, barstyle='fancy', labelstyle='simple',\n",
    "    fillcolor1='w', fillcolor2='#555555', fontcolor='#555555',\n",
    "    zorder=5)\n",
    "\n",
    "#Create colorbar\n",
    "cbar = custom_colorbar(cmap, shrink=0.5)\n",
    "cbar.ax.tick_params(labelsize=10)\n",
    "\n",
    "fig.suptitle(\"Criminal Activity in Seattle Neighborhoods\", fontdict={'size':18, 'fontweight':'bold'}, y=0.935)\n",
    "ax.set_title(\"Using all recorded criminal cases since 2008\", fontsize=10, y=0.995)\n",
    "plt.savefig('allcrimes2.png', dpi=100, frameon=False, bbox_inches='tight', pad_inches=0.5, facecolor='#F2F2F2')"
   ]
  },
  {
   "cell_type": "code",
   "execution_count": null,
   "metadata": {
    "collapsed": false
   },
   "outputs": [],
   "source": [
    "import choropleth as ch"
   ]
  },
  {
   "cell_type": "code",
   "execution_count": null,
   "metadata": {
    "collapsed": false
   },
   "outputs": [],
   "source": [
    "cmap = plt.get_cmap('viridis')\n",
    "shapefilename = 'Neighborhoods/WGS84/Neighborhoods'\n",
    "\n",
    "boundaries = ch.open_shape(shapefilename)\n",
    "pc, hood_norm, m = ch.create_patches(shapefilename, crimes['Latitude'], \n",
    "                                                    crimes['Longitude'], boundaries)\n",
    "pc = ch.set_patchcolor(pc, cmap, hood_norm)\n",
    "\n",
    "figwidth = 10\n",
    "title = 'Criminal Activity in Seattle Neighborhoods'\n",
    "suptitle = 'test'\n",
    "savename = 'test.png'\n",
    "ch.plotter(pc, m, boundaries, cmap, figwidth, title, suptitle, savename)"
   ]
  },
  {
   "cell_type": "code",
   "execution_count": null,
   "metadata": {
    "collapsed": false
   },
   "outputs": [],
   "source": [
    "cmap = plt.get_cmap('viridis')\n",
    "shapefilename = 'Neighborhoods/WGS84/Neighborhoods'\n",
    "\n",
    "boundaries = ch.open_shape(shapefilename)\n",
    "pc, hood_norm, m = ch.create_patches(shapefilename, crimes['Latitude'], \n",
    "                                                    crimes['Longitude'], boundaries)\n",
    "pc = ch.set_patchcolor(pc, cmap, hood_norm)\n",
    "\n",
    "figwidth = 10\n",
    "title = 'Criminal Activity in Seattle Neighborhoods'\n",
    "suptitle = 'test'\n",
    "savename = 'test.png'\n",
    "ch.plotter(pc, m, boundaries, cmap, figwidth, title, suptitle, savename)"
   ]
  },
  {
   "cell_type": "code",
   "execution_count": null,
   "metadata": {
    "collapsed": true
   },
   "outputs": [],
   "source": []
  }
 ],
 "metadata": {
  "kernelspec": {
   "display_name": "Python 3",
   "language": "python",
   "name": "python3"
  },
  "language_info": {
   "codemirror_mode": {
    "name": "ipython",
    "version": 3
   },
   "file_extension": ".py",
   "mimetype": "text/x-python",
   "name": "python",
   "nbconvert_exporter": "python",
   "pygments_lexer": "ipython3",
   "version": "3.5.1"
  }
 },
 "nbformat": 4,
 "nbformat_minor": 0
}
