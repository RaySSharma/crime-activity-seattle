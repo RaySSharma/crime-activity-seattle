{
 "cells": [
  {
   "cell_type": "code",
   "execution_count": 230,
   "metadata": {
    "collapsed": false
   },
   "outputs": [],
   "source": [
    "%matplotlib inline\n",
    "\n",
    "import matplotlib.pyplot as plt\n",
    "import numpy as np\n",
    "import pandas as pd\n",
    "\n",
    "crimes = pd.read_csv('crimes.csv', index_col='Date Reported')\n",
    "violations = pd.read_csv('finalviolations.csv', sep=',', index_col=0)\n",
    "\n",
    "crimes.index = crimes.index.to_datetime()"
   ]
  },
  {
   "cell_type": "code",
   "execution_count": 231,
   "metadata": {
    "collapsed": false
   },
   "outputs": [
    {
     "data": {
      "text/plain": [
       "['RMS CDW ID',\n",
       " 'General Offense Number',\n",
       " 'Offense Code',\n",
       " 'Offense Code Extension',\n",
       " 'Offense Type',\n",
       " 'Summary Offense Code',\n",
       " 'Summarized Offense Description',\n",
       " 'Occurred Date or Date Range Start',\n",
       " 'Occurred Date Range End',\n",
       " 'Hundred Block Location',\n",
       " 'District/Sector',\n",
       " 'Zone/Beat',\n",
       " 'Census Tract 2000',\n",
       " 'Longitude',\n",
       " 'Latitude',\n",
       " 'Location',\n",
       " 'Month',\n",
       " 'Year']"
      ]
     },
     "execution_count": 231,
     "metadata": {},
     "output_type": "execute_result"
    }
   ],
   "source": [
    "list(crimes.columns)"
   ]
  },
  {
   "cell_type": "code",
   "execution_count": 274,
   "metadata": {
    "collapsed": false
   },
   "outputs": [],
   "source": [
    "crimes = crimes[['Summarized Offense Description','District/Sector','Latitude', 'Longitude']].dropna()\n",
    "crimes = crimes[crimes['Latitude'] != 0.0]"
   ]
  },
  {
   "cell_type": "code",
   "execution_count": 275,
   "metadata": {
    "collapsed": false
   },
   "outputs": [
    {
     "data": {
      "text/plain": [
       "M     49262\n",
       "K     45964\n",
       "D     44781\n",
       "U     44312\n",
       "E     43359\n",
       "B     40811\n",
       "N     38837\n",
       "J     36998\n",
       "R     36209\n",
       "Q     35953\n",
       "L     35891\n",
       "S     32155\n",
       "W     31379\n",
       "C     29715\n",
       "F     29114\n",
       "G     28112\n",
       "O     22506\n",
       "99     1197\n",
       "H         2\n",
       "dtype: int64"
      ]
     },
     "execution_count": 275,
     "metadata": {},
     "output_type": "execute_result"
    }
   ],
   "source": [
    "crimes['District/Sector'].value_counts()"
   ]
  },
  {
   "cell_type": "code",
   "execution_count": 276,
   "metadata": {
    "collapsed": false
   },
   "outputs": [
    {
     "data": {
      "text/plain": [
       "Car prowl                           113755\n",
       "Other property                       76345\n",
       "Burglary                             66231\n",
       "Property damage                      47299\n",
       "Vehicle theft                        45338\n",
       "Fraud                                35032\n",
       "Assault                              34662\n",
       "Warrant arrest                       32415\n",
       "Threats                              21689\n",
       "Disturbance                          20597\n",
       "Stolen property                      19915\n",
       "Shoplifting                          19906\n",
       "Narcotics                            15117\n",
       "Robbery                              13640\n",
       "Bike theft                           10183\n",
       "Trespass                              8245\n",
       "Burglary-secure parking-res           5629\n",
       "Traffic                               4178\n",
       "Weapon                                3267\n",
       "Lost property                         3152\n",
       "Prostitution                          3026\n",
       "Dispute                               2862\n",
       "Mail theft                            2823\n",
       "Pickpocket                            2385\n",
       "Violation of court order              2027\n",
       "Dui                                   1835\n",
       "Theft of services                     1666\n",
       "Counterfeit                           1619\n",
       "Animal complaint                      1562\n",
       "Embezzle                              1516\n",
       "Forgery                               1390\n",
       "Liquor violation                      1190\n",
       "Injury                                1158\n",
       "Obstruct                               983\n",
       "Recovered property                     656\n",
       "Illegal dumping                        645\n",
       "False report                           472\n",
       "Purse snatch                           471\n",
       "Reckless burning                       301\n",
       "Disorderly conduct                     217\n",
       "Eluding                                147\n",
       "Homicide                               144\n",
       "Stay out of area of drugs              138\n",
       "Firework                               121\n",
       "Bias incident                           94\n",
       "Extortion                               85\n",
       "Public nuisance                         82\n",
       "Pornography                             81\n",
       "Harbor calls                            66\n",
       "[inc - case dc use only]                58\n",
       "Loitering                               58\n",
       "Escape                                  47\n",
       "Stay out of area of prostitution        20\n",
       "Gamble                                  13\n",
       "Fraud and financial                      3\n",
       "Metro                                    1\n",
       "dtype: int64"
      ]
     },
     "execution_count": 276,
     "metadata": {},
     "output_type": "execute_result"
    }
   ],
   "source": [
    "crimes['Summarized Offense Description'].str.capitalize().value_counts()"
   ]
  },
  {
   "cell_type": "code",
   "execution_count": 300,
   "metadata": {
    "collapsed": false
   },
   "outputs": [
    {
     "data": {
      "text/plain": [
       "count       95.000000\n",
       "mean      6595.336842\n",
       "std       2801.083208\n",
       "min          1.000000\n",
       "25%       4408.000000\n",
       "50%       5769.000000\n",
       "75%       9075.000000\n",
       "max      11994.000000\n",
       "dtype: float64"
      ]
     },
     "execution_count": 300,
     "metadata": {},
     "output_type": "execute_result"
    },
    {
     "data": {
      "image/png": "[encoded data removed]",
      "text/plain": [
       "<matplotlib.figure.Figure at 0x7f0f0edb2ac8>"
      ]
     },
     "metadata": {},
     "output_type": "display_data"
    }
   ],
   "source": [
    "crime_counts = crimes.index.value_counts().resample('M', how='sum')\n",
    "crime_counts['2008-01-01':].plot()\n",
    "plt.xlabel('Date')\n",
    "plt.ylabel('Monthly Crime Counts')\n",
    "\n",
    "crime_counts.describe()"
   ]
  },
  {
   "cell_type": "code",
   "execution_count": 301,
   "metadata": {
    "collapsed": true
   },
   "outputs": [],
   "source": [
    "SEASON = {1:'Winter', 2:'Winter', 3:'Winter', 4:'Spring', 5:'Spring', 6:'Spring', \n",
    "          7:'Summer', 8:'Summer', 9:'Summer', 10:'Autumn', 11:'Autumn', 12:'Winter'}\n",
    "WEEKDAY = {0:'Mon', 1:'Tue', 2:'Wed', 3:'Thu', \n",
    "            4:'Fri', 5:'Sat', 6:'Sun'}"
   ]
  },
  {
   "cell_type": "code",
   "execution_count": 302,
   "metadata": {
    "collapsed": false
   },
   "outputs": [],
   "source": [
    "cases = pd.DataFrame({'Crime Counts': pd.Series(crime_counts, index=crime_counts.index),\n",
    "                     'Season': pd.Series([SEASON[i] for i in crime_counts.index.month], index=crime_counts.index),\n",
    "                     'Weekday': pd.Series([WEEKDAY[i] for i in crime_counts.index.weekday], index=crime_counts.index)})\n",
    "cases = cases.fillna(0)"
   ]
  },
  {
   "cell_type": "code",
   "execution_count": 303,
   "metadata": {
    "collapsed": false
   },
   "outputs": [],
   "source": [
    "cases = cases['2008-01-01':]"
   ]
  },
  {
   "cell_type": "code",
   "execution_count": null,
   "metadata": {
    "collapsed": true
   },
   "outputs": [],
   "source": []
  }
 ],
 "metadata": {
  "kernelspec": {
   "display_name": "Python 3",
   "language": "python",
   "name": "python3"
  },
  "language_info": {
   "codemirror_mode": {
    "name": "ipython",
    "version": 3
   },
   "file_extension": ".py",
   "mimetype": "text/x-python",
   "name": "python",
   "nbconvert_exporter": "python",
   "pygments_lexer": "ipython3",
   "version": "3.4.3"
  }
 },
 "nbformat": 4,
 "nbformat_minor": 0
}
